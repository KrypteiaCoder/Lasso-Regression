{
 "cells": [
  {
   "cell_type": "code",
   "execution_count": 1,
   "metadata": {},
   "outputs": [],
   "source": [
    "import pandas as pd\n",
    "from matplotlib import pyplot as plt\n",
    "import numpy as np\n",
    "import math\n",
    "import seaborn as sns\n",
    "import sklearn\n",
    "from sklearn import linear_model\n",
    "from sklearn import preprocessing\n",
    "%matplotlib inline\n",
    "sns.set_style('white')"
   ]
  },
  {
   "cell_type": "markdown",
   "metadata": {},
   "source": [
    "### Ridge regression shrinks parameter estimates, but the estimates never reach exactly 0. LASSO (Least Absolute Shrinkage and Selection Operator), on the other hand, is a model optimization mechanic that works by trying to force small parameter estimates to be equal to zero, effectively dropping them from the model. This can prevent overfitting, and also works as an embedded feature selection method. Lasso is extremely handy when you are dealing with thousands or hundreds of thousands of predictors and need to optimize processor time, or when you want to arrive at a simpler solution that is easier to interpret."
   ]
  },
  {
   "cell_type": "markdown",
   "metadata": {},
   "source": [
    "### Regularization based on the sum of the absolute weights is also called \"L1 regularization\"."
   ]
  },
  {
   "cell_type": "markdown",
   "metadata": {},
   "source": [
    "### To summarize: Lasso works by iteratively fitting a model to the data while excluding one of the features. It then checks how well the model reproduces the data, and if the model fit is good enough (with \"good enough\" determined by  𝜆 ) then the excluded feature is deemed unnecessary and its  𝛽  is set to zero, effectively excluding it from the model. Otherwise, the excluded feature's  𝛽 is set using a combination of the correlation of the feature with the model residuals ( 𝜌𝑗 ) and  𝜆2  and a new iteration begins, using the newly-computed  𝛽  for the previously-excluded feature and excluding a new feature. This continues until the change in  𝛽  is less than a pre-determined threshold.\n",
    "\n",
    "### Hopefully this demonstrates how lasso can both create overfitting-protection through shrinkage and create sparsity (many parameters set to 0) through feature selection. Let's see it at work, using the same dataset as previously."
   ]
  },
  {
   "cell_type": "code",
   "execution_count": 2,
   "metadata": {},
   "outputs": [],
   "source": [
    "# Load the data again. Keep air quality data, drop the index column\n",
    "# and any missing data columns.\n",
    "df = pd.read_csv(\n",
    "    'https://tf-assets-prod.s3.amazonaws.com/tf-curric/data-science/credit-card-defaults.csv'\n",
    ").iloc[:,1:].dropna()\n"
   ]
  },
  {
   "cell_type": "code",
   "execution_count": 3,
   "metadata": {},
   "outputs": [
    {
     "data": {
      "text/html": [
       "<div>\n",
       "<style scoped>\n",
       "    .dataframe tbody tr th:only-of-type {\n",
       "        vertical-align: middle;\n",
       "    }\n",
       "\n",
       "    .dataframe tbody tr th {\n",
       "        vertical-align: top;\n",
       "    }\n",
       "\n",
       "    .dataframe thead th {\n",
       "        text-align: right;\n",
       "    }\n",
       "</style>\n",
       "<table border=\"1\" class=\"dataframe\">\n",
       "  <thead>\n",
       "    <tr style=\"text-align: right;\">\n",
       "      <th></th>\n",
       "      <th>default</th>\n",
       "      <th>student</th>\n",
       "      <th>balance</th>\n",
       "      <th>income</th>\n",
       "    </tr>\n",
       "  </thead>\n",
       "  <tbody>\n",
       "    <tr>\n",
       "      <th>0</th>\n",
       "      <td>No</td>\n",
       "      <td>No</td>\n",
       "      <td>729.526495</td>\n",
       "      <td>44361.625074</td>\n",
       "    </tr>\n",
       "    <tr>\n",
       "      <th>1</th>\n",
       "      <td>No</td>\n",
       "      <td>Yes</td>\n",
       "      <td>817.180407</td>\n",
       "      <td>12106.134700</td>\n",
       "    </tr>\n",
       "    <tr>\n",
       "      <th>2</th>\n",
       "      <td>No</td>\n",
       "      <td>No</td>\n",
       "      <td>1073.549164</td>\n",
       "      <td>31767.138947</td>\n",
       "    </tr>\n",
       "    <tr>\n",
       "      <th>3</th>\n",
       "      <td>No</td>\n",
       "      <td>No</td>\n",
       "      <td>529.250605</td>\n",
       "      <td>35704.493935</td>\n",
       "    </tr>\n",
       "    <tr>\n",
       "      <th>4</th>\n",
       "      <td>No</td>\n",
       "      <td>No</td>\n",
       "      <td>785.655883</td>\n",
       "      <td>38463.495879</td>\n",
       "    </tr>\n",
       "  </tbody>\n",
       "</table>\n",
       "</div>"
      ],
      "text/plain": [
       "  default student      balance        income\n",
       "0      No      No   729.526495  44361.625074\n",
       "1      No     Yes   817.180407  12106.134700\n",
       "2      No      No  1073.549164  31767.138947\n",
       "3      No      No   529.250605  35704.493935\n",
       "4      No      No   785.655883  38463.495879"
      ]
     },
     "execution_count": 3,
     "metadata": {},
     "output_type": "execute_result"
    }
   ],
   "source": [
    "df.head(5)"
   ]
  },
  {
   "cell_type": "code",
   "execution_count": 4,
   "metadata": {},
   "outputs": [
    {
     "data": {
      "text/plain": [
       "(10000, 4)"
      ]
     },
     "execution_count": 4,
     "metadata": {},
     "output_type": "execute_result"
    }
   ],
   "source": [
    "df.shape"
   ]
  },
  {
   "cell_type": "code",
   "execution_count": 5,
   "metadata": {},
   "outputs": [
    {
     "name": "stdout",
     "output_type": "stream",
     "text": [
      "<class 'pandas.core.frame.DataFrame'>\n",
      "Int64Index: 10000 entries, 0 to 9999\n",
      "Data columns (total 4 columns):\n",
      "default    10000 non-null object\n",
      "student    10000 non-null object\n",
      "balance    10000 non-null float64\n",
      "income     10000 non-null float64\n",
      "dtypes: float64(2), object(2)\n",
      "memory usage: 390.6+ KB\n"
     ]
    }
   ],
   "source": [
    "df.info()"
   ]
  },
  {
   "cell_type": "code",
   "execution_count": 6,
   "metadata": {},
   "outputs": [],
   "source": [
    "# Recode strings to numeric.\n",
    "df['default'] = np.where(df['default']=='Yes', 1, 0)\n",
    "df['student'] = np.where(df['student']=='Yes', 1, 0)\n",
    "names = df.columns\n",
    "df = pd.DataFrame(preprocessing.scale(df), columns=names)\n"
   ]
  },
  {
   "cell_type": "code",
   "execution_count": 7,
   "metadata": {},
   "outputs": [
    {
     "data": {
      "text/html": [
       "<div>\n",
       "<style scoped>\n",
       "    .dataframe tbody tr th:only-of-type {\n",
       "        vertical-align: middle;\n",
       "    }\n",
       "\n",
       "    .dataframe tbody tr th {\n",
       "        vertical-align: top;\n",
       "    }\n",
       "\n",
       "    .dataframe thead th {\n",
       "        text-align: right;\n",
       "    }\n",
       "</style>\n",
       "<table border=\"1\" class=\"dataframe\">\n",
       "  <thead>\n",
       "    <tr style=\"text-align: right;\">\n",
       "      <th></th>\n",
       "      <th>default</th>\n",
       "      <th>student</th>\n",
       "      <th>balance</th>\n",
       "      <th>income</th>\n",
       "    </tr>\n",
       "  </thead>\n",
       "  <tbody>\n",
       "    <tr>\n",
       "      <th>0</th>\n",
       "      <td>-0.185599</td>\n",
       "      <td>-0.645936</td>\n",
       "      <td>-0.218835</td>\n",
       "      <td>0.813187</td>\n",
       "    </tr>\n",
       "    <tr>\n",
       "      <th>1</th>\n",
       "      <td>-0.185599</td>\n",
       "      <td>1.548141</td>\n",
       "      <td>-0.037616</td>\n",
       "      <td>-1.605496</td>\n",
       "    </tr>\n",
       "    <tr>\n",
       "      <th>2</th>\n",
       "      <td>-0.185599</td>\n",
       "      <td>-0.645936</td>\n",
       "      <td>0.492410</td>\n",
       "      <td>-0.131212</td>\n",
       "    </tr>\n",
       "    <tr>\n",
       "      <th>3</th>\n",
       "      <td>-0.185599</td>\n",
       "      <td>-0.645936</td>\n",
       "      <td>-0.632893</td>\n",
       "      <td>0.164031</td>\n",
       "    </tr>\n",
       "    <tr>\n",
       "      <th>4</th>\n",
       "      <td>-0.185599</td>\n",
       "      <td>-0.645936</td>\n",
       "      <td>-0.102791</td>\n",
       "      <td>0.370915</td>\n",
       "    </tr>\n",
       "  </tbody>\n",
       "</table>\n",
       "</div>"
      ],
      "text/plain": [
       "    default   student   balance    income\n",
       "0 -0.185599 -0.645936 -0.218835  0.813187\n",
       "1 -0.185599  1.548141 -0.037616 -1.605496\n",
       "2 -0.185599 -0.645936  0.492410 -0.131212\n",
       "3 -0.185599 -0.645936 -0.632893  0.164031\n",
       "4 -0.185599 -0.645936 -0.102791  0.370915"
      ]
     },
     "execution_count": 7,
     "metadata": {},
     "output_type": "execute_result"
    }
   ],
   "source": [
    "df.head(5)"
   ]
  },
  {
   "cell_type": "code",
   "execution_count": 8,
   "metadata": {},
   "outputs": [],
   "source": [
    "# Define the training and test sizes.\n",
    "trainsize = int(df.shape[0] / 2)\n",
    "df_test = df.iloc[trainsize:, :].copy()\n",
    "df_train = df.iloc[:trainsize, :].copy()\n"
   ]
  },
  {
   "cell_type": "code",
   "execution_count": 9,
   "metadata": {},
   "outputs": [
    {
     "data": {
      "text/html": [
       "<div>\n",
       "<style scoped>\n",
       "    .dataframe tbody tr th:only-of-type {\n",
       "        vertical-align: middle;\n",
       "    }\n",
       "\n",
       "    .dataframe tbody tr th {\n",
       "        vertical-align: top;\n",
       "    }\n",
       "\n",
       "    .dataframe thead th {\n",
       "        text-align: right;\n",
       "    }\n",
       "</style>\n",
       "<table border=\"1\" class=\"dataframe\">\n",
       "  <thead>\n",
       "    <tr style=\"text-align: right;\">\n",
       "      <th></th>\n",
       "      <th>default</th>\n",
       "      <th>student</th>\n",
       "      <th>balance</th>\n",
       "      <th>income</th>\n",
       "    </tr>\n",
       "  </thead>\n",
       "  <tbody>\n",
       "    <tr>\n",
       "      <th>5000</th>\n",
       "      <td>-0.185599</td>\n",
       "      <td>1.548141</td>\n",
       "      <td>-1.132387</td>\n",
       "      <td>-1.355403</td>\n",
       "    </tr>\n",
       "    <tr>\n",
       "      <th>5001</th>\n",
       "      <td>-0.185599</td>\n",
       "      <td>-0.645936</td>\n",
       "      <td>-0.423224</td>\n",
       "      <td>1.705896</td>\n",
       "    </tr>\n",
       "    <tr>\n",
       "      <th>5002</th>\n",
       "      <td>-0.185599</td>\n",
       "      <td>-0.645936</td>\n",
       "      <td>-0.464913</td>\n",
       "      <td>-0.363898</td>\n",
       "    </tr>\n",
       "    <tr>\n",
       "      <th>5003</th>\n",
       "      <td>-0.185599</td>\n",
       "      <td>-0.645936</td>\n",
       "      <td>0.803932</td>\n",
       "      <td>0.072979</td>\n",
       "    </tr>\n",
       "    <tr>\n",
       "      <th>5004</th>\n",
       "      <td>-0.185599</td>\n",
       "      <td>-0.645936</td>\n",
       "      <td>-1.051294</td>\n",
       "      <td>1.142702</td>\n",
       "    </tr>\n",
       "  </tbody>\n",
       "</table>\n",
       "</div>"
      ],
      "text/plain": [
       "       default   student   balance    income\n",
       "5000 -0.185599  1.548141 -1.132387 -1.355403\n",
       "5001 -0.185599 -0.645936 -0.423224  1.705896\n",
       "5002 -0.185599 -0.645936 -0.464913 -0.363898\n",
       "5003 -0.185599 -0.645936  0.803932  0.072979\n",
       "5004 -0.185599 -0.645936 -1.051294  1.142702"
      ]
     },
     "execution_count": 9,
     "metadata": {},
     "output_type": "execute_result"
    }
   ],
   "source": [
    "df_test.head(5)"
   ]
  },
  {
   "cell_type": "code",
   "execution_count": 10,
   "metadata": {},
   "outputs": [
    {
     "data": {
      "text/html": [
       "<div>\n",
       "<style scoped>\n",
       "    .dataframe tbody tr th:only-of-type {\n",
       "        vertical-align: middle;\n",
       "    }\n",
       "\n",
       "    .dataframe tbody tr th {\n",
       "        vertical-align: top;\n",
       "    }\n",
       "\n",
       "    .dataframe thead th {\n",
       "        text-align: right;\n",
       "    }\n",
       "</style>\n",
       "<table border=\"1\" class=\"dataframe\">\n",
       "  <thead>\n",
       "    <tr style=\"text-align: right;\">\n",
       "      <th></th>\n",
       "      <th>default</th>\n",
       "      <th>student</th>\n",
       "      <th>balance</th>\n",
       "      <th>income</th>\n",
       "    </tr>\n",
       "  </thead>\n",
       "  <tbody>\n",
       "    <tr>\n",
       "      <th>0</th>\n",
       "      <td>-0.185599</td>\n",
       "      <td>-0.645936</td>\n",
       "      <td>-0.218835</td>\n",
       "      <td>0.813187</td>\n",
       "    </tr>\n",
       "    <tr>\n",
       "      <th>1</th>\n",
       "      <td>-0.185599</td>\n",
       "      <td>1.548141</td>\n",
       "      <td>-0.037616</td>\n",
       "      <td>-1.605496</td>\n",
       "    </tr>\n",
       "    <tr>\n",
       "      <th>2</th>\n",
       "      <td>-0.185599</td>\n",
       "      <td>-0.645936</td>\n",
       "      <td>0.492410</td>\n",
       "      <td>-0.131212</td>\n",
       "    </tr>\n",
       "    <tr>\n",
       "      <th>3</th>\n",
       "      <td>-0.185599</td>\n",
       "      <td>-0.645936</td>\n",
       "      <td>-0.632893</td>\n",
       "      <td>0.164031</td>\n",
       "    </tr>\n",
       "    <tr>\n",
       "      <th>4</th>\n",
       "      <td>-0.185599</td>\n",
       "      <td>-0.645936</td>\n",
       "      <td>-0.102791</td>\n",
       "      <td>0.370915</td>\n",
       "    </tr>\n",
       "  </tbody>\n",
       "</table>\n",
       "</div>"
      ],
      "text/plain": [
       "    default   student   balance    income\n",
       "0 -0.185599 -0.645936 -0.218835  0.813187\n",
       "1 -0.185599  1.548141 -0.037616 -1.605496\n",
       "2 -0.185599 -0.645936  0.492410 -0.131212\n",
       "3 -0.185599 -0.645936 -0.632893  0.164031\n",
       "4 -0.185599 -0.645936 -0.102791  0.370915"
      ]
     },
     "execution_count": 10,
     "metadata": {},
     "output_type": "execute_result"
    }
   ],
   "source": [
    "df_train.head(5)"
   ]
  },
  {
   "cell_type": "code",
   "execution_count": 11,
   "metadata": {},
   "outputs": [],
   "source": [
    "Y_train = df_train['income'].values.reshape(-1, 1)\n",
    "X_train = df_train.loc[:, ~(df_train.columns).isin(['income'])]"
   ]
  },
  {
   "cell_type": "code",
   "execution_count": 12,
   "metadata": {},
   "outputs": [
    {
     "name": "stdout",
     "output_type": "stream",
     "text": [
      "[[ 0.81318727]\n",
      " [-1.60549572]\n",
      " [-0.13121225]\n",
      " ..., \n",
      " [ 1.25649771]\n",
      " [-0.31587678]\n",
      " [-0.35094738]]\n"
     ]
    }
   ],
   "source": [
    "print(Y_train)"
   ]
  },
  {
   "cell_type": "code",
   "execution_count": 13,
   "metadata": {},
   "outputs": [
    {
     "name": "stdout",
     "output_type": "stream",
     "text": [
      "       default   student   balance\n",
      "0    -0.185599 -0.645936 -0.218835\n",
      "1    -0.185599  1.548141 -0.037616\n",
      "2    -0.185599 -0.645936  0.492410\n",
      "3    -0.185599 -0.645936 -0.632893\n",
      "4    -0.185599 -0.645936 -0.102791\n",
      "5    -0.185599  1.548141  0.174106\n",
      "6    -0.185599 -0.645936 -0.020388\n",
      "7    -0.185599  1.548141 -0.055216\n",
      "8    -0.185599 -0.645936  0.673329\n",
      "9    -0.185599 -0.645936 -1.727085\n",
      "10   -0.185599  1.548141 -1.727085\n",
      "11   -0.185599  1.548141  0.796395\n",
      "12   -0.185599 -0.645936 -1.237009\n",
      "13   -0.185599 -0.645936 -0.472683\n",
      "14   -0.185599 -0.645936  0.573907\n",
      "15   -0.185599 -0.645936 -1.135317\n",
      "16   -0.185599 -0.645936 -1.727085\n",
      "17   -0.185599  1.548141 -0.636429\n",
      "18   -0.185599 -0.645936 -0.722441\n",
      "19   -0.185599 -0.645936  0.536909\n",
      "20   -0.185599 -0.645936 -1.253740\n",
      "21   -0.185599 -0.645936  0.245791\n",
      "22   -0.185599 -0.645936  0.456039\n",
      "23   -0.185599 -0.645936 -0.399823\n",
      "24   -0.185599 -0.645936 -0.128518\n",
      "25   -0.185599 -0.645936  0.040591\n",
      "26   -0.185599 -0.645936 -0.397723\n",
      "27   -0.185599 -0.645936  1.280753\n",
      "28   -0.185599 -0.645936 -0.454155\n",
      "29   -0.185599  1.548141  0.587554\n",
      "...        ...       ...       ...\n",
      "4970 -0.185599 -0.645936 -1.556057\n",
      "4971 -0.185599 -0.645936  0.851258\n",
      "4972 -0.185599  1.548141 -0.402603\n",
      "4973 -0.185599 -0.645936 -1.161750\n",
      "4974 -0.185599 -0.645936 -1.727085\n",
      "4975 -0.185599 -0.645936 -0.065215\n",
      "4976 -0.185599 -0.645936  0.853853\n",
      "4977 -0.185599 -0.645936 -1.727085\n",
      "4978 -0.185599  1.548141  0.975479\n",
      "4979 -0.185599 -0.645936 -1.727085\n",
      "4980 -0.185599 -0.645936  0.725099\n",
      "4981 -0.185599  1.548141  0.418032\n",
      "4982  5.387952  1.548141  2.155564\n",
      "4983 -0.185599 -0.645936 -0.204966\n",
      "4984 -0.185599 -0.645936 -1.189216\n",
      "4985 -0.185599  1.548141  0.554707\n",
      "4986 -0.185599  1.548141  0.104787\n",
      "4987 -0.185599 -0.645936 -1.269842\n",
      "4988 -0.185599 -0.645936  0.543080\n",
      "4989 -0.185599 -0.645936 -1.727085\n",
      "4990 -0.185599 -0.645936 -0.017418\n",
      "4991 -0.185599 -0.645936 -0.548712\n",
      "4992 -0.185599 -0.645936  0.993781\n",
      "4993 -0.185599 -0.645936 -1.547785\n",
      "4994 -0.185599 -0.645936  1.288965\n",
      "4995 -0.185599 -0.645936  0.843672\n",
      "4996 -0.185599 -0.645936 -0.092247\n",
      "4997 -0.185599 -0.645936  2.401943\n",
      "4998 -0.185599 -0.645936  0.259541\n",
      "4999 -0.185599 -0.645936 -0.389749\n",
      "\n",
      "[5000 rows x 3 columns]\n"
     ]
    }
   ],
   "source": [
    "print(X_train)"
   ]
  },
  {
   "cell_type": "code",
   "execution_count": 14,
   "metadata": {},
   "outputs": [],
   "source": [
    "# Make some new features to capture potential quadratic and cubic\n",
    "# relationships between solar radiation and day or temperature.\n",
    "df_train['balance_student'] = df_train['balance'] * df_train['student']\n",
    "df_train['balance_default'] = df_train['balance'] * df_train['default']\n",
    "df_train['student_default'] = df_train['student'] * df_train['default']\n",
    "df_train['balance_sqrt'] = (df_train['balance'] + 100) ** .5\n",
    "df_train['balance2'] = (df_train['balance'] + 100) ** 2\n",
    "df_train['balance3'] = (df_train['balance'] + 100) ** 3\n"
   ]
  },
  {
   "cell_type": "code",
   "execution_count": 15,
   "metadata": {},
   "outputs": [
    {
     "data": {
      "text/html": [
       "<div>\n",
       "<style scoped>\n",
       "    .dataframe tbody tr th:only-of-type {\n",
       "        vertical-align: middle;\n",
       "    }\n",
       "\n",
       "    .dataframe tbody tr th {\n",
       "        vertical-align: top;\n",
       "    }\n",
       "\n",
       "    .dataframe thead th {\n",
       "        text-align: right;\n",
       "    }\n",
       "</style>\n",
       "<table border=\"1\" class=\"dataframe\">\n",
       "  <thead>\n",
       "    <tr style=\"text-align: right;\">\n",
       "      <th></th>\n",
       "      <th>default</th>\n",
       "      <th>student</th>\n",
       "      <th>balance</th>\n",
       "      <th>income</th>\n",
       "      <th>balance_student</th>\n",
       "      <th>balance_default</th>\n",
       "      <th>student_default</th>\n",
       "      <th>balance_sqrt</th>\n",
       "      <th>balance2</th>\n",
       "      <th>balance3</th>\n",
       "    </tr>\n",
       "  </thead>\n",
       "  <tbody>\n",
       "    <tr>\n",
       "      <th>0</th>\n",
       "      <td>-0.185599</td>\n",
       "      <td>-0.645936</td>\n",
       "      <td>-0.218835</td>\n",
       "      <td>0.813187</td>\n",
       "      <td>0.141353</td>\n",
       "      <td>0.040616</td>\n",
       "      <td>0.119885</td>\n",
       "      <td>9.989052</td>\n",
       "      <td>9956.280924</td>\n",
       "      <td>9.934493e+05</td>\n",
       "    </tr>\n",
       "    <tr>\n",
       "      <th>1</th>\n",
       "      <td>-0.185599</td>\n",
       "      <td>1.548141</td>\n",
       "      <td>-0.037616</td>\n",
       "      <td>-1.605496</td>\n",
       "      <td>-0.058235</td>\n",
       "      <td>0.006981</td>\n",
       "      <td>-0.287334</td>\n",
       "      <td>9.998119</td>\n",
       "      <td>9992.478229</td>\n",
       "      <td>9.988719e+05</td>\n",
       "    </tr>\n",
       "    <tr>\n",
       "      <th>2</th>\n",
       "      <td>-0.185599</td>\n",
       "      <td>-0.645936</td>\n",
       "      <td>0.492410</td>\n",
       "      <td>-0.131212</td>\n",
       "      <td>-0.318066</td>\n",
       "      <td>-0.091391</td>\n",
       "      <td>0.119885</td>\n",
       "      <td>10.024590</td>\n",
       "      <td>10098.724506</td>\n",
       "      <td>1.014845e+06</td>\n",
       "    </tr>\n",
       "    <tr>\n",
       "      <th>3</th>\n",
       "      <td>-0.185599</td>\n",
       "      <td>-0.645936</td>\n",
       "      <td>-0.632893</td>\n",
       "      <td>0.164031</td>\n",
       "      <td>0.408808</td>\n",
       "      <td>0.117464</td>\n",
       "      <td>0.119885</td>\n",
       "      <td>9.968305</td>\n",
       "      <td>9873.822052</td>\n",
       "      <td>9.811331e+05</td>\n",
       "    </tr>\n",
       "    <tr>\n",
       "      <th>4</th>\n",
       "      <td>-0.185599</td>\n",
       "      <td>-0.645936</td>\n",
       "      <td>-0.102791</td>\n",
       "      <td>0.370915</td>\n",
       "      <td>0.066396</td>\n",
       "      <td>0.019078</td>\n",
       "      <td>0.119885</td>\n",
       "      <td>9.994859</td>\n",
       "      <td>9979.452390</td>\n",
       "      <td>9.969194e+05</td>\n",
       "    </tr>\n",
       "  </tbody>\n",
       "</table>\n",
       "</div>"
      ],
      "text/plain": [
       "    default   student   balance    income  balance_student  balance_default  \\\n",
       "0 -0.185599 -0.645936 -0.218835  0.813187         0.141353         0.040616   \n",
       "1 -0.185599  1.548141 -0.037616 -1.605496        -0.058235         0.006981   \n",
       "2 -0.185599 -0.645936  0.492410 -0.131212        -0.318066        -0.091391   \n",
       "3 -0.185599 -0.645936 -0.632893  0.164031         0.408808         0.117464   \n",
       "4 -0.185599 -0.645936 -0.102791  0.370915         0.066396         0.019078   \n",
       "\n",
       "   student_default  balance_sqrt      balance2      balance3  \n",
       "0         0.119885      9.989052   9956.280924  9.934493e+05  \n",
       "1        -0.287334      9.998119   9992.478229  9.988719e+05  \n",
       "2         0.119885     10.024590  10098.724506  1.014845e+06  \n",
       "3         0.119885      9.968305   9873.822052  9.811331e+05  \n",
       "4         0.119885      9.994859   9979.452390  9.969194e+05  "
      ]
     },
     "execution_count": 15,
     "metadata": {},
     "output_type": "execute_result"
    }
   ],
   "source": [
    "df_train.head(5)"
   ]
  },
  {
   "cell_type": "code",
   "execution_count": 16,
   "metadata": {},
   "outputs": [
    {
     "data": {
      "text/plain": [
       "(5000, 10)"
      ]
     },
     "execution_count": 16,
     "metadata": {},
     "output_type": "execute_result"
    }
   ],
   "source": [
    "df_train.shape"
   ]
  },
  {
   "cell_type": "code",
   "execution_count": 17,
   "metadata": {},
   "outputs": [],
   "source": [
    "X_train2 = df_train.loc[:, ~(df_train.columns).isin(['income'])]\n"
   ]
  },
  {
   "cell_type": "code",
   "execution_count": 18,
   "metadata": {},
   "outputs": [
    {
     "name": "stdout",
     "output_type": "stream",
     "text": [
      "       default   student   balance  balance_student  balance_default  \\\n",
      "0    -0.185599 -0.645936 -0.218835         0.141353         0.040616   \n",
      "1    -0.185599  1.548141 -0.037616        -0.058235         0.006981   \n",
      "2    -0.185599 -0.645936  0.492410        -0.318066        -0.091391   \n",
      "3    -0.185599 -0.645936 -0.632893         0.408808         0.117464   \n",
      "4    -0.185599 -0.645936 -0.102791         0.066396         0.019078   \n",
      "5    -0.185599  1.548141  0.174106         0.269541        -0.032314   \n",
      "6    -0.185599 -0.645936 -0.020388         0.013169         0.003784   \n",
      "7    -0.185599  1.548141 -0.055216        -0.085482         0.010248   \n",
      "8    -0.185599 -0.645936  0.673329        -0.434927        -0.124969   \n",
      "9    -0.185599 -0.645936 -1.727085         1.115586         0.320546   \n",
      "10   -0.185599  1.548141 -1.727085        -2.673770         0.320546   \n",
      "11   -0.185599  1.548141  0.796395         1.232931        -0.147810   \n",
      "12   -0.185599 -0.645936 -1.237009         0.799029         0.229588   \n",
      "13   -0.185599 -0.645936 -0.472683         0.305323         0.087730   \n",
      "14   -0.185599 -0.645936  0.573907        -0.370707        -0.106517   \n",
      "15   -0.185599 -0.645936 -1.135317         0.733342         0.210714   \n",
      "16   -0.185599 -0.645936 -1.727085         1.115586         0.320546   \n",
      "17   -0.185599  1.548141 -0.636429        -0.985281         0.118121   \n",
      "18   -0.185599 -0.645936 -0.722441         0.466651         0.134085   \n",
      "19   -0.185599 -0.645936  0.536909        -0.346809        -0.099650   \n",
      "20   -0.185599 -0.645936 -1.253740         0.809836         0.232693   \n",
      "21   -0.185599 -0.645936  0.245791        -0.158765        -0.045619   \n",
      "22   -0.185599 -0.645936  0.456039        -0.294572        -0.084640   \n",
      "23   -0.185599 -0.645936 -0.399823         0.258260         0.074207   \n",
      "24   -0.185599 -0.645936 -0.128518         0.083015         0.023853   \n",
      "25   -0.185599 -0.645936  0.040591        -0.026219        -0.007534   \n",
      "26   -0.185599 -0.645936 -0.397723         0.256904         0.073817   \n",
      "27   -0.185599 -0.645936  1.280753        -0.827285        -0.237707   \n",
      "28   -0.185599 -0.645936 -0.454155         0.293355         0.084291   \n",
      "29   -0.185599  1.548141  0.587554         0.909616        -0.109050   \n",
      "...        ...       ...       ...              ...              ...   \n",
      "4970 -0.185599 -0.645936 -1.556057         1.005113         0.288803   \n",
      "4971 -0.185599 -0.645936  0.851258        -0.549858        -0.157993   \n",
      "4972 -0.185599  1.548141 -0.402603        -0.623286         0.074723   \n",
      "4973 -0.185599 -0.645936 -1.161750         0.750417         0.215620   \n",
      "4974 -0.185599 -0.645936 -1.727085         1.115586         0.320546   \n",
      "4975 -0.185599 -0.645936 -0.065215         0.042124         0.012104   \n",
      "4976 -0.185599 -0.645936  0.853853        -0.551535        -0.158475   \n",
      "4977 -0.185599 -0.645936 -1.727085         1.115586         0.320546   \n",
      "4978 -0.185599  1.548141  0.975479         1.510178        -0.181048   \n",
      "4979 -0.185599 -0.645936 -1.727085         1.115586         0.320546   \n",
      "4980 -0.185599 -0.645936  0.725099        -0.468368        -0.134578   \n",
      "4981 -0.185599  1.548141  0.418032         0.647172        -0.077586   \n",
      "4982  5.387952  1.548141  2.155564         3.337115        11.614074   \n",
      "4983 -0.185599 -0.645936 -0.204966         0.132395         0.038041   \n",
      "4984 -0.185599 -0.645936 -1.189216         0.768157         0.220718   \n",
      "4985 -0.185599  1.548141  0.554707         0.858765        -0.102953   \n",
      "4986 -0.185599  1.548141  0.104787         0.162225        -0.019448   \n",
      "4987 -0.185599 -0.645936 -1.269842         0.820237         0.235682   \n",
      "4988 -0.185599 -0.645936  0.543080        -0.350795        -0.100795   \n",
      "4989 -0.185599 -0.645936 -1.727085         1.115586         0.320546   \n",
      "4990 -0.185599 -0.645936 -0.017418         0.011251         0.003233   \n",
      "4991 -0.185599 -0.645936 -0.548712         0.354433         0.101841   \n",
      "4992 -0.185599 -0.645936  0.993781        -0.641919        -0.184445   \n",
      "4993 -0.185599 -0.645936 -1.547785         0.999770         0.287268   \n",
      "4994 -0.185599 -0.645936  1.288965        -0.832589        -0.239231   \n",
      "4995 -0.185599 -0.645936  0.843672        -0.544958        -0.156585   \n",
      "4996 -0.185599 -0.645936 -0.092247         0.059586         0.017121   \n",
      "4997 -0.185599 -0.645936  2.401943        -1.551502        -0.445799   \n",
      "4998 -0.185599 -0.645936  0.259541        -0.167647        -0.048171   \n",
      "4999 -0.185599 -0.645936 -0.389749         0.251753         0.072337   \n",
      "\n",
      "      student_default  balance_sqrt      balance2      balance3  \n",
      "0            0.119885      9.989052   9956.280924  9.934493e+05  \n",
      "1           -0.287334      9.998119   9992.478229  9.988719e+05  \n",
      "2            0.119885     10.024590  10098.724506  1.014845e+06  \n",
      "3            0.119885      9.968305   9873.822052  9.811331e+05  \n",
      "4            0.119885      9.994859   9979.452390  9.969194e+05  \n",
      "5           -0.287334     10.008702  10034.851585  1.005232e+06  \n",
      "6            0.119885      9.998981   9995.922788  9.993885e+05  \n",
      "7           -0.287334      9.997239   9988.959886  9.983444e+05  \n",
      "8            0.119885     10.033610  10135.119141  1.020336e+06  \n",
      "9            0.119885      9.913270   9657.565919  9.490772e+05  \n",
      "10          -0.287334      9.913270   9657.565919  9.490772e+05  \n",
      "11          -0.287334     10.039741  10159.913217  1.024083e+06  \n",
      "12           0.119885      9.937957   9754.128432  9.633469e+05  \n",
      "13           0.119885      9.976338   9905.686778  9.858864e+05  \n",
      "14           0.119885     10.028654  10115.110761  1.017316e+06  \n",
      "15           0.119885      9.943072   9774.225570  9.663257e+05  \n",
      "16           0.119885      9.913270   9657.565919  9.490772e+05  \n",
      "17          -0.287334      9.968128   9873.119303  9.810284e+05  \n",
      "18           0.119885      9.963812   9856.033739  9.784830e+05  \n",
      "19           0.119885     10.026810  10107.670032  1.016194e+06  \n",
      "20           0.119885      9.937115   9750.823932  9.628574e+05  \n",
      "21           0.119885     10.012282  10049.218639  1.007392e+06  \n",
      "22           0.119885     10.022776  10091.415710  1.013744e+06  \n",
      "23           0.119885      9.979989   9920.195345  9.880532e+05  \n",
      "24           0.119885      9.993572   9974.312840  9.961494e+05  \n",
      "25           0.119885     10.002029  10008.119907  1.001218e+06  \n",
      "26           0.119885      9.980094   9920.613505  9.881157e+05  \n",
      "27           0.119885     10.063834  10257.790905  1.038917e+06  \n",
      "28           0.119885      9.977266   9909.375251  9.864371e+05  \n",
      "29          -0.287334     10.029335  10117.856021  1.017730e+06  \n",
      "...               ...           ...           ...           ...  \n",
      "4970         0.119885      9.921892   9691.209951  9.540409e+05  \n",
      "4971         0.119885     10.042473  10170.976264  1.025756e+06  \n",
      "4972        -0.287334      9.979850   9919.641499  9.879705e+05  \n",
      "4973         0.119885      9.941743   9768.999611  9.655508e+05  \n",
      "4974         0.119885      9.913270   9657.565919  9.490772e+05  \n",
      "4975         0.119885      9.996739   9986.961334  9.980448e+05  \n",
      "4976         0.119885     10.042602  10171.499675  1.025835e+06  \n",
      "4977         0.119885      9.913270   9657.565919  9.490772e+05  \n",
      "4978        -0.287334     10.048656  10196.047305  1.029551e+06  \n",
      "4979         0.119885      9.913270   9657.565919  9.490772e+05  \n",
      "4980         0.119885     10.036189  10145.545612  1.021911e+06  \n",
      "4981        -0.287334     10.020880  10083.781109  1.012593e+06  \n",
      "4982         8.341307     10.107204  10435.759166  1.066071e+06  \n",
      "4983         0.119885      9.989746   9959.048860  9.938636e+05  \n",
      "4984         0.119885      9.940361   9763.571087  9.647461e+05  \n",
      "4985        -0.287334     10.027697  10111.249193  1.016734e+06  \n",
      "4986        -0.287334     10.005238  10020.968349  1.003147e+06  \n",
      "4987         0.119885      9.936305   9747.644012  9.623864e+05  \n",
      "4988         0.119885     10.027117  10108.910963  1.016381e+06  \n",
      "4989         0.119885      9.913270   9657.565919  9.490772e+05  \n",
      "4990         0.119885      9.999129   9996.516642  9.994775e+05  \n",
      "4991         0.119885      9.972527   9890.558595  9.836288e+05  \n",
      "4992         0.119885     10.049566  10199.743717  1.030111e+06  \n",
      "4993         0.119885      9.922309   9692.838637  9.542814e+05  \n",
      "4994         0.119885     10.064242  10259.454401  1.039170e+06  \n",
      "4995         0.119885     10.042095  10169.446215  1.025524e+06  \n",
      "4996         0.119885      9.995387   9981.559068  9.972351e+05  \n",
      "4997         0.119885     10.119385  10486.158013  1.073803e+06  \n",
      "4998         0.119885     10.012969  10051.975640  1.007806e+06  \n",
      "4999         0.119885      9.980494   9922.202048  9.883530e+05  \n",
      "\n",
      "[5000 rows x 9 columns]\n"
     ]
    }
   ],
   "source": [
    "print(X_train2)"
   ]
  },
  {
   "cell_type": "code",
   "execution_count": 19,
   "metadata": {},
   "outputs": [],
   "source": [
    "# Test the simpler model with smaller coefficients.\n",
    "Y_test = df_test['income'].values.reshape(-1, 1)\n",
    "X_test = df_test.loc[:, ~(df_test.columns).isin(['income'])]\n",
    "\n",
    "# Test the more complex model with larger coefficients.\n",
    "df_test['balance_student'] = df_test['balance'] * df_test['student']\n",
    "df_test['balance_default'] = df_test['balance'] * df_test['default']\n",
    "df_test['student_default'] = df_test['student'] * df_test['default']\n",
    "df_test['balance_sqrt'] = (df_test['balance'] + 100) ** .5\n",
    "df_test['balance2'] = (df_test['balance'] + 100) ** 2\n",
    "df_test['balance3'] = (df_test['balance'] + 100) ** 3\n",
    "X_test2 = df_test.loc[:, ~(df_test.columns).isin(['income'])]\n"
   ]
  },
  {
   "cell_type": "code",
   "execution_count": 20,
   "metadata": {},
   "outputs": [
    {
     "name": "stdout",
     "output_type": "stream",
     "text": [
      "R² for the model with few features:\n",
      "0.450062579301\n",
      "\n",
      "Parameter estimates for the model with few features:\n",
      "[-0.         -0.40657726 -0.          0.00114596]\n",
      "\n",
      "R² for the model with many features:\n",
      "0.443633767129\n",
      "\n",
      "Parameter estimates for the model with many features:\n",
      "[  0.00000000e+00  -3.89351238e-01   0.00000000e+00  -0.00000000e+00\n",
      "   0.00000000e+00  -0.00000000e+00   0.00000000e+00  -2.77688887e-04\n",
      "  -7.09158792e-07   3.48711577e+00]\n"
     ]
    }
   ],
   "source": [
    "# Small number of parameters.\n",
    "lass = linear_model.Lasso(alpha=.35)\n",
    "lassfit = lass.fit(X_train, Y_train)\n",
    "print('R² for the model with few features:')\n",
    "print(lass.score(X_train, Y_train))\n",
    "origparams = np.append(lassfit.coef_, lassfit.intercept_)\n",
    "print('\\nParameter estimates for the model with few features:')\n",
    "print(origparams)\n",
    "\n",
    "# Large number of parameters.\n",
    "lassBig = linear_model.Lasso(alpha=.35)\n",
    "lassBig.fit(X_train2, Y_train)\n",
    "print('\\nR² for the model with many features:')\n",
    "print(lassBig.score(X_train2, Y_train))\n",
    "origparams = np.append(lassBig.coef_, lassBig.intercept_)\n",
    "print('\\nParameter estimates for the model with many features:')\n",
    "print(origparams)"
   ]
  },
  {
   "cell_type": "code",
   "execution_count": 21,
   "metadata": {},
   "outputs": [
    {
     "name": "stdout",
     "output_type": "stream",
     "text": [
      "0.445532251512\n",
      "0.438046634591\n"
     ]
    }
   ],
   "source": [
    "print(lass.score(X_test, Y_test))\n",
    "\n",
    "print(lassBig.score(X_test2, Y_test))"
   ]
  },
  {
   "cell_type": "markdown",
   "metadata": {},
   "source": [
    "### Regularization parameter: Lasso\n",
    "### The  𝜆  for lasso can var between 0 (no penalty, acts like OLS) and infinity. If  𝜆  is too large, all parameters will be set to zero.\n",
    "\n",
    "### Create a plot below of how  𝑅2  varies across different values of  𝜆  for ridge and lasso regression. Use logic and code similar to the ridge regression demonstration above, and base your plot on the X_train2 feature set.\n",
    "\n",
    "### Do lasso and ridge yield the same  𝑅2  for a given lambda value?\n",
    "\n",
    "### Submit your work and discuss the results with your mentor."
   ]
  },
  {
   "cell_type": "code",
   "execution_count": 22,
   "metadata": {},
   "outputs": [
    {
     "name": "stderr",
     "output_type": "stream",
     "text": [
      "/anaconda3/lib/python3.6/site-packages/sklearn/linear_model/coordinate_descent.py:491: ConvergenceWarning: Objective did not converge. You might want to increase the number of iterations. Fitting data with very small alpha may cause precision problems.\n",
      "  ConvergenceWarning)\n",
      "/anaconda3/lib/python3.6/site-packages/sklearn/linear_model/coordinate_descent.py:491: ConvergenceWarning: Objective did not converge. You might want to increase the number of iterations. Fitting data with very small alpha may cause precision problems.\n",
      "  ConvergenceWarning)\n",
      "/anaconda3/lib/python3.6/site-packages/sklearn/linear_model/coordinate_descent.py:491: ConvergenceWarning: Objective did not converge. You might want to increase the number of iterations. Fitting data with very small alpha may cause precision problems.\n",
      "  ConvergenceWarning)\n",
      "/anaconda3/lib/python3.6/site-packages/sklearn/linear_model/coordinate_descent.py:491: ConvergenceWarning: Objective did not converge. You might want to increase the number of iterations. Fitting data with very small alpha may cause precision problems.\n",
      "  ConvergenceWarning)\n",
      "/anaconda3/lib/python3.6/site-packages/sklearn/linear_model/coordinate_descent.py:491: ConvergenceWarning: Objective did not converge. You might want to increase the number of iterations. Fitting data with very small alpha may cause precision problems.\n",
      "  ConvergenceWarning)\n",
      "/anaconda3/lib/python3.6/site-packages/sklearn/linear_model/coordinate_descent.py:491: ConvergenceWarning: Objective did not converge. You might want to increase the number of iterations. Fitting data with very small alpha may cause precision problems.\n",
      "  ConvergenceWarning)\n",
      "/anaconda3/lib/python3.6/site-packages/sklearn/linear_model/coordinate_descent.py:491: ConvergenceWarning: Objective did not converge. You might want to increase the number of iterations. Fitting data with very small alpha may cause precision problems.\n",
      "  ConvergenceWarning)\n",
      "/anaconda3/lib/python3.6/site-packages/sklearn/linear_model/coordinate_descent.py:491: ConvergenceWarning: Objective did not converge. You might want to increase the number of iterations. Fitting data with very small alpha may cause precision problems.\n",
      "  ConvergenceWarning)\n"
     ]
    },
    {
     "data": {
      "image/png": "[encoded data removed]",
      "text/plain": [
       "<Figure size 1440x720 with 1 Axes>"
      ]
     },
     "metadata": {},
     "output_type": "display_data"
    }
   ],
   "source": [
    "# Store estimates.\n",
    "estimates = np.append(lassBig.coef_, [1000])\n",
    "\n",
    "# Storing legend information.\n",
    "labels = []\n",
    "\n",
    "#Run the model for many alphas.\n",
    "for lambd in range(1, 1000, 2):\n",
    "    lassBig = linear_model.Lasso(alpha=lambd, fit_intercept=False)\n",
    "    lassBig.fit(X_train2, Y_train)\n",
    "    estimates = np.row_stack((\n",
    "        estimates,\n",
    "        np.append(lassBig.coef_,[lambd])))\n",
    "\n",
    "# Make the data pretty.\n",
    "estimates_df = pd.DataFrame(\n",
    "    estimates,\n",
    "    columns=list(X_train2.columns) + ['lambda'])\n",
    "estimates_df.sort_values(by='lambda', inplace=True, ascending=True)\n",
    "\n",
    "# Leave out the 'student' variable.\n",
    "# It has very high values and throws off our plot's scale.\n",
    "varstoplot = list(estimates_df.columns[:9,])\n",
    "varstoplot.remove('student')\n",
    "\n",
    "# Plot a line for each parameter.\n",
    "plt.figure(figsize=(20,10))\n",
    "for var in varstoplot:\n",
    "    plt.plot(estimates_df['lambda'], estimates_df[var])\n",
    "    labels.append(var)\n",
    "plt.xlabel('lambda')\n",
    "plt.ylabel('Parameter estimate size')\n",
    "plt.legend(labels)\n",
    "plt.show()"
   ]
  },
  {
   "cell_type": "code",
   "execution_count": 23,
   "metadata": {},
   "outputs": [
    {
     "name": "stdout",
     "output_type": "stream",
     "text": [
      "0.57387391644\n",
      "[  1.36988466e-02  -7.57859433e-01  -3.25298557e-04]\n",
      "0.573946428961\n",
      "\n",
      "Parameter Estimates for the same predictors for the small modeland large model:\n",
      "[[0.014 -0.002]\n",
      " [-0.758 -0.757]\n",
      " [-0.000 0.048]]\n"
     ]
    }
   ],
   "source": [
    "# Fitting a ridge regression model. Alpha is the regularization\n",
    "# parameter (usually called lambda). As alpha gets larger, parameter\n",
    "# shrinkage grows more pronounced. Note that by convention, the\n",
    "# intercept is not regularized. Since we standardized the data\n",
    "# earlier, the intercept should be equal to zero and can be dropped.\n",
    "\n",
    "ridgeregr = linear_model.Ridge(alpha=10, fit_intercept=False) \n",
    "ridgeregr.fit(X_train, Y_train)\n",
    "print(ridgeregr.score(X_train, Y_train))\n",
    "origparams = ridgeregr.coef_[0]\n",
    "print(origparams)\n",
    "\n",
    "ridgeregrBig = linear_model.Ridge(alpha=10, fit_intercept=False)\n",
    "ridgeregrBig.fit(X_train2, Y_train)\n",
    "print(ridgeregrBig.score(X_train2, Y_train))\n",
    "newparams = ridgeregrBig.coef_[0, 0:len(origparams)]\n",
    "\n",
    "print('\\nParameter Estimates for the same predictors for the small model'\n",
    "      'and large model:')\n",
    "compare = np.column_stack((origparams, newparams))\n",
    "prettycompare = np.array2string(\n",
    "    compare,\n",
    "    formatter={'float_kind':'{0:.3f}'.format})\n",
    "print(prettycompare)"
   ]
  },
  {
   "cell_type": "code",
   "execution_count": 24,
   "metadata": {},
   "outputs": [
    {
     "data": {
      "image/png": "[encoded data removed]",
      "text/plain": [
       "<Figure size 1440x720 with 1 Axes>"
      ]
     },
     "metadata": {},
     "output_type": "display_data"
    }
   ],
   "source": [
    "# Store estimates.\n",
    "estimates = np.append(ridgeregrBig.coef_, [10])\n",
    "\n",
    "# Storing legend information.\n",
    "labels = []\n",
    "\n",
    "#Run the model for many alphas.\n",
    "for lambd in range(1, 50, 2):\n",
    "    ridgeregrBig = linear_model.Ridge(alpha=lambd, fit_intercept=False)\n",
    "    ridgeregrBig.fit(X_train2, Y_train)\n",
    "    estimates = np.row_stack((\n",
    "        estimates,\n",
    "        np.append(ridgeregrBig.coef_,[lambd])))\n",
    "\n",
    "# Make the data pretty.\n",
    "estimates_df = pd.DataFrame(\n",
    "    estimates,\n",
    "    columns=list(X_train2.columns) + ['lambda'])\n",
    "estimates_df.sort_values(by='lambda', inplace=True, ascending=True)\n",
    "\n",
    "# Leave out the 'student' variable.\n",
    "# It has very high values and throws off our plot's scale.\n",
    "varstoplot = list(estimates_df.columns[:9,])\n",
    "varstoplot.remove('student')\n",
    "\n",
    "# Plot a line for each parameter.\n",
    "plt.figure(figsize=(20,10))\n",
    "for var in varstoplot:\n",
    "    plt.plot(estimates_df['lambda'], estimates_df[var])\n",
    "    labels.append(var)\n",
    "plt.xlabel('lambda')\n",
    "plt.ylabel('Parameter estimate size')\n",
    "plt.legend(labels)\n",
    "plt.show()"
   ]
  }
 ],
 "metadata": {
  "kernelspec": {
   "display_name": "Python 3",
   "language": "python",
   "name": "python3"
  },
  "language_info": {
   "codemirror_mode": {
    "name": "ipython",
    "version": 3
   },
   "file_extension": ".py",
   "mimetype": "text/x-python",
   "name": "python",
   "nbconvert_exporter": "python",
   "pygments_lexer": "ipython3",
   "version": "3.6.5"
  }
 },
 "nbformat": 4,
 "nbformat_minor": 2
}
